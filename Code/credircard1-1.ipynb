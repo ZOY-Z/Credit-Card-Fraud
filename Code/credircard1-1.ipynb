{
 "cells": [
  {
   "cell_type": "code",
   "execution_count": 1,
   "id": "017f4b6c",
   "metadata": {
    "execution": {
     "iopub.execute_input": "2022-06-26T18:47:59.657535Z",
     "iopub.status.busy": "2022-06-26T18:47:59.657042Z",
     "iopub.status.idle": "2022-06-26T18:48:09.539274Z",
     "shell.execute_reply": "2022-06-26T18:48:09.538258Z"
    },
    "papermill": {
     "duration": 9.899728,
     "end_time": "2022-06-26T18:48:09.542140",
     "exception": false,
     "start_time": "2022-06-26T18:47:59.642412",
     "status": "completed"
    },
    "tags": []
   },
   "outputs": [],
   "source": [
    "import pandas as pd\n",
    "import numpy as np\n",
    "import keras\n",
    "\n",
    "np.random.seed(2)"
   ]
  },
  {
   "cell_type": "code",
   "execution_count": 2,
   "id": "cc50046d",
   "metadata": {
    "execution": {
     "iopub.execute_input": "2022-06-26T18:48:09.567106Z",
     "iopub.status.busy": "2022-06-26T18:48:09.565957Z",
     "iopub.status.idle": "2022-06-26T18:48:14.132214Z",
     "shell.execute_reply": "2022-06-26T18:48:14.130905Z"
    },
    "papermill": {
     "duration": 4.581759,
     "end_time": "2022-06-26T18:48:14.135263",
     "exception": false,
     "start_time": "2022-06-26T18:48:09.553504",
     "status": "completed"
    },
    "tags": []
   },
   "outputs": [],
   "source": [
    "data = pd.read_csv('../input/creditcardfraud/creditcard.csv')"
   ]
  },
  {
   "cell_type": "markdown",
   "id": "fd825e2f",
   "metadata": {
    "papermill": {
     "duration": 0.010581,
     "end_time": "2022-06-26T18:48:14.157283",
     "exception": false,
     "start_time": "2022-06-26T18:48:14.146702",
     "status": "completed"
    },
    "tags": []
   },
   "source": [
    "## Data exploration"
   ]
  },
  {
   "cell_type": "code",
   "execution_count": 3,
   "id": "7d21e88f",
   "metadata": {
    "execution": {
     "iopub.execute_input": "2022-06-26T18:48:14.180962Z",
     "iopub.status.busy": "2022-06-26T18:48:14.180520Z",
     "iopub.status.idle": "2022-06-26T18:48:14.219262Z",
     "shell.execute_reply": "2022-06-26T18:48:14.218174Z"
    },
    "papermill": {
     "duration": 0.053422,
     "end_time": "2022-06-26T18:48:14.221604",
     "exception": false,
     "start_time": "2022-06-26T18:48:14.168182",
     "status": "completed"
    },
    "tags": []
   },
   "outputs": [
    {
     "data": {
      "text/html": [
       "<div>\n",
       "<style scoped>\n",
       "    .dataframe tbody tr th:only-of-type {\n",
       "        vertical-align: middle;\n",
       "    }\n",
       "\n",
       "    .dataframe tbody tr th {\n",
       "        vertical-align: top;\n",
       "    }\n",
       "\n",
       "    .dataframe thead th {\n",
       "        text-align: right;\n",
       "    }\n",
       "</style>\n",
       "<table border=\"1\" class=\"dataframe\">\n",
       "  <thead>\n",
       "    <tr style=\"text-align: right;\">\n",
       "      <th></th>\n",
       "      <th>Time</th>\n",
       "      <th>V1</th>\n",
       "      <th>V2</th>\n",
       "      <th>V3</th>\n",
       "      <th>V4</th>\n",
       "      <th>V5</th>\n",
       "      <th>V6</th>\n",
       "      <th>V7</th>\n",
       "      <th>V8</th>\n",
       "      <th>V9</th>\n",
       "      <th>...</th>\n",
       "      <th>V21</th>\n",
       "      <th>V22</th>\n",
       "      <th>V23</th>\n",
       "      <th>V24</th>\n",
       "      <th>V25</th>\n",
       "      <th>V26</th>\n",
       "      <th>V27</th>\n",
       "      <th>V28</th>\n",
       "      <th>Amount</th>\n",
       "      <th>Class</th>\n",
       "    </tr>\n",
       "  </thead>\n",
       "  <tbody>\n",
       "    <tr>\n",
       "      <th>0</th>\n",
       "      <td>0.0</td>\n",
       "      <td>-1.359807</td>\n",
       "      <td>-0.072781</td>\n",
       "      <td>2.536347</td>\n",
       "      <td>1.378155</td>\n",
       "      <td>-0.338321</td>\n",
       "      <td>0.462388</td>\n",
       "      <td>0.239599</td>\n",
       "      <td>0.098698</td>\n",
       "      <td>0.363787</td>\n",
       "      <td>...</td>\n",
       "      <td>-0.018307</td>\n",
       "      <td>0.277838</td>\n",
       "      <td>-0.110474</td>\n",
       "      <td>0.066928</td>\n",
       "      <td>0.128539</td>\n",
       "      <td>-0.189115</td>\n",
       "      <td>0.133558</td>\n",
       "      <td>-0.021053</td>\n",
       "      <td>149.62</td>\n",
       "      <td>0</td>\n",
       "    </tr>\n",
       "    <tr>\n",
       "      <th>1</th>\n",
       "      <td>0.0</td>\n",
       "      <td>1.191857</td>\n",
       "      <td>0.266151</td>\n",
       "      <td>0.166480</td>\n",
       "      <td>0.448154</td>\n",
       "      <td>0.060018</td>\n",
       "      <td>-0.082361</td>\n",
       "      <td>-0.078803</td>\n",
       "      <td>0.085102</td>\n",
       "      <td>-0.255425</td>\n",
       "      <td>...</td>\n",
       "      <td>-0.225775</td>\n",
       "      <td>-0.638672</td>\n",
       "      <td>0.101288</td>\n",
       "      <td>-0.339846</td>\n",
       "      <td>0.167170</td>\n",
       "      <td>0.125895</td>\n",
       "      <td>-0.008983</td>\n",
       "      <td>0.014724</td>\n",
       "      <td>2.69</td>\n",
       "      <td>0</td>\n",
       "    </tr>\n",
       "    <tr>\n",
       "      <th>2</th>\n",
       "      <td>1.0</td>\n",
       "      <td>-1.358354</td>\n",
       "      <td>-1.340163</td>\n",
       "      <td>1.773209</td>\n",
       "      <td>0.379780</td>\n",
       "      <td>-0.503198</td>\n",
       "      <td>1.800499</td>\n",
       "      <td>0.791461</td>\n",
       "      <td>0.247676</td>\n",
       "      <td>-1.514654</td>\n",
       "      <td>...</td>\n",
       "      <td>0.247998</td>\n",
       "      <td>0.771679</td>\n",
       "      <td>0.909412</td>\n",
       "      <td>-0.689281</td>\n",
       "      <td>-0.327642</td>\n",
       "      <td>-0.139097</td>\n",
       "      <td>-0.055353</td>\n",
       "      <td>-0.059752</td>\n",
       "      <td>378.66</td>\n",
       "      <td>0</td>\n",
       "    </tr>\n",
       "    <tr>\n",
       "      <th>3</th>\n",
       "      <td>1.0</td>\n",
       "      <td>-0.966272</td>\n",
       "      <td>-0.185226</td>\n",
       "      <td>1.792993</td>\n",
       "      <td>-0.863291</td>\n",
       "      <td>-0.010309</td>\n",
       "      <td>1.247203</td>\n",
       "      <td>0.237609</td>\n",
       "      <td>0.377436</td>\n",
       "      <td>-1.387024</td>\n",
       "      <td>...</td>\n",
       "      <td>-0.108300</td>\n",
       "      <td>0.005274</td>\n",
       "      <td>-0.190321</td>\n",
       "      <td>-1.175575</td>\n",
       "      <td>0.647376</td>\n",
       "      <td>-0.221929</td>\n",
       "      <td>0.062723</td>\n",
       "      <td>0.061458</td>\n",
       "      <td>123.50</td>\n",
       "      <td>0</td>\n",
       "    </tr>\n",
       "    <tr>\n",
       "      <th>4</th>\n",
       "      <td>2.0</td>\n",
       "      <td>-1.158233</td>\n",
       "      <td>0.877737</td>\n",
       "      <td>1.548718</td>\n",
       "      <td>0.403034</td>\n",
       "      <td>-0.407193</td>\n",
       "      <td>0.095921</td>\n",
       "      <td>0.592941</td>\n",
       "      <td>-0.270533</td>\n",
       "      <td>0.817739</td>\n",
       "      <td>...</td>\n",
       "      <td>-0.009431</td>\n",
       "      <td>0.798278</td>\n",
       "      <td>-0.137458</td>\n",
       "      <td>0.141267</td>\n",
       "      <td>-0.206010</td>\n",
       "      <td>0.502292</td>\n",
       "      <td>0.219422</td>\n",
       "      <td>0.215153</td>\n",
       "      <td>69.99</td>\n",
       "      <td>0</td>\n",
       "    </tr>\n",
       "  </tbody>\n",
       "</table>\n",
       "<p>5 rows × 31 columns</p>\n",
       "</div>"
      ],
      "text/plain": [
       "   Time        V1        V2        V3        V4        V5        V6        V7  \\\n",
       "0   0.0 -1.359807 -0.072781  2.536347  1.378155 -0.338321  0.462388  0.239599   \n",
       "1   0.0  1.191857  0.266151  0.166480  0.448154  0.060018 -0.082361 -0.078803   \n",
       "2   1.0 -1.358354 -1.340163  1.773209  0.379780 -0.503198  1.800499  0.791461   \n",
       "3   1.0 -0.966272 -0.185226  1.792993 -0.863291 -0.010309  1.247203  0.237609   \n",
       "4   2.0 -1.158233  0.877737  1.548718  0.403034 -0.407193  0.095921  0.592941   \n",
       "\n",
       "         V8        V9  ...       V21       V22       V23       V24       V25  \\\n",
       "0  0.098698  0.363787  ... -0.018307  0.277838 -0.110474  0.066928  0.128539   \n",
       "1  0.085102 -0.255425  ... -0.225775 -0.638672  0.101288 -0.339846  0.167170   \n",
       "2  0.247676 -1.514654  ...  0.247998  0.771679  0.909412 -0.689281 -0.327642   \n",
       "3  0.377436 -1.387024  ... -0.108300  0.005274 -0.190321 -1.175575  0.647376   \n",
       "4 -0.270533  0.817739  ... -0.009431  0.798278 -0.137458  0.141267 -0.206010   \n",
       "\n",
       "        V26       V27       V28  Amount  Class  \n",
       "0 -0.189115  0.133558 -0.021053  149.62      0  \n",
       "1  0.125895 -0.008983  0.014724    2.69      0  \n",
       "2 -0.139097 -0.055353 -0.059752  378.66      0  \n",
       "3 -0.221929  0.062723  0.061458  123.50      0  \n",
       "4  0.502292  0.219422  0.215153   69.99      0  \n",
       "\n",
       "[5 rows x 31 columns]"
      ]
     },
     "execution_count": 3,
     "metadata": {},
     "output_type": "execute_result"
    }
   ],
   "source": [
    "data.head()"
   ]
  },
  {
   "cell_type": "markdown",
   "id": "142b8ce9",
   "metadata": {
    "papermill": {
     "duration": 0.011928,
     "end_time": "2022-06-26T18:48:14.244966",
     "exception": false,
     "start_time": "2022-06-26T18:48:14.233038",
     "status": "completed"
    },
    "tags": []
   },
   "source": [
    "## Pre-processing"
   ]
  },
  {
   "cell_type": "code",
   "execution_count": 4,
   "id": "947e09cb",
   "metadata": {
    "execution": {
     "iopub.execute_input": "2022-06-26T18:48:14.269885Z",
     "iopub.status.busy": "2022-06-26T18:48:14.269448Z",
     "iopub.status.idle": "2022-06-26T18:48:15.302812Z",
     "shell.execute_reply": "2022-06-26T18:48:15.301460Z"
    },
    "papermill": {
     "duration": 1.049123,
     "end_time": "2022-06-26T18:48:15.305585",
     "exception": false,
     "start_time": "2022-06-26T18:48:14.256462",
     "status": "completed"
    },
    "tags": []
   },
   "outputs": [],
   "source": [
    "from sklearn.preprocessing import StandardScaler\n",
    "data['normalizedAmount'] = StandardScaler().fit_transform(data['Amount'].values.reshape(-1,1))\n",
    "data = data.drop(['Amount'],axis=1)"
   ]
  },
  {
   "cell_type": "code",
   "execution_count": 5,
   "id": "80cb1b8a",
   "metadata": {
    "execution": {
     "iopub.execute_input": "2022-06-26T18:48:15.331223Z",
     "iopub.status.busy": "2022-06-26T18:48:15.330764Z",
     "iopub.status.idle": "2022-06-26T18:48:15.358453Z",
     "shell.execute_reply": "2022-06-26T18:48:15.357384Z"
    },
    "papermill": {
     "duration": 0.043287,
     "end_time": "2022-06-26T18:48:15.360763",
     "exception": false,
     "start_time": "2022-06-26T18:48:15.317476",
     "status": "completed"
    },
    "tags": []
   },
   "outputs": [
    {
     "data": {
      "text/html": [
       "<div>\n",
       "<style scoped>\n",
       "    .dataframe tbody tr th:only-of-type {\n",
       "        vertical-align: middle;\n",
       "    }\n",
       "\n",
       "    .dataframe tbody tr th {\n",
       "        vertical-align: top;\n",
       "    }\n",
       "\n",
       "    .dataframe thead th {\n",
       "        text-align: right;\n",
       "    }\n",
       "</style>\n",
       "<table border=\"1\" class=\"dataframe\">\n",
       "  <thead>\n",
       "    <tr style=\"text-align: right;\">\n",
       "      <th></th>\n",
       "      <th>Time</th>\n",
       "      <th>V1</th>\n",
       "      <th>V2</th>\n",
       "      <th>V3</th>\n",
       "      <th>V4</th>\n",
       "      <th>V5</th>\n",
       "      <th>V6</th>\n",
       "      <th>V7</th>\n",
       "      <th>V8</th>\n",
       "      <th>V9</th>\n",
       "      <th>...</th>\n",
       "      <th>V21</th>\n",
       "      <th>V22</th>\n",
       "      <th>V23</th>\n",
       "      <th>V24</th>\n",
       "      <th>V25</th>\n",
       "      <th>V26</th>\n",
       "      <th>V27</th>\n",
       "      <th>V28</th>\n",
       "      <th>Class</th>\n",
       "      <th>normalizedAmount</th>\n",
       "    </tr>\n",
       "  </thead>\n",
       "  <tbody>\n",
       "    <tr>\n",
       "      <th>0</th>\n",
       "      <td>0.0</td>\n",
       "      <td>-1.359807</td>\n",
       "      <td>-0.072781</td>\n",
       "      <td>2.536347</td>\n",
       "      <td>1.378155</td>\n",
       "      <td>-0.338321</td>\n",
       "      <td>0.462388</td>\n",
       "      <td>0.239599</td>\n",
       "      <td>0.098698</td>\n",
       "      <td>0.363787</td>\n",
       "      <td>...</td>\n",
       "      <td>-0.018307</td>\n",
       "      <td>0.277838</td>\n",
       "      <td>-0.110474</td>\n",
       "      <td>0.066928</td>\n",
       "      <td>0.128539</td>\n",
       "      <td>-0.189115</td>\n",
       "      <td>0.133558</td>\n",
       "      <td>-0.021053</td>\n",
       "      <td>0</td>\n",
       "      <td>0.244964</td>\n",
       "    </tr>\n",
       "    <tr>\n",
       "      <th>1</th>\n",
       "      <td>0.0</td>\n",
       "      <td>1.191857</td>\n",
       "      <td>0.266151</td>\n",
       "      <td>0.166480</td>\n",
       "      <td>0.448154</td>\n",
       "      <td>0.060018</td>\n",
       "      <td>-0.082361</td>\n",
       "      <td>-0.078803</td>\n",
       "      <td>0.085102</td>\n",
       "      <td>-0.255425</td>\n",
       "      <td>...</td>\n",
       "      <td>-0.225775</td>\n",
       "      <td>-0.638672</td>\n",
       "      <td>0.101288</td>\n",
       "      <td>-0.339846</td>\n",
       "      <td>0.167170</td>\n",
       "      <td>0.125895</td>\n",
       "      <td>-0.008983</td>\n",
       "      <td>0.014724</td>\n",
       "      <td>0</td>\n",
       "      <td>-0.342475</td>\n",
       "    </tr>\n",
       "    <tr>\n",
       "      <th>2</th>\n",
       "      <td>1.0</td>\n",
       "      <td>-1.358354</td>\n",
       "      <td>-1.340163</td>\n",
       "      <td>1.773209</td>\n",
       "      <td>0.379780</td>\n",
       "      <td>-0.503198</td>\n",
       "      <td>1.800499</td>\n",
       "      <td>0.791461</td>\n",
       "      <td>0.247676</td>\n",
       "      <td>-1.514654</td>\n",
       "      <td>...</td>\n",
       "      <td>0.247998</td>\n",
       "      <td>0.771679</td>\n",
       "      <td>0.909412</td>\n",
       "      <td>-0.689281</td>\n",
       "      <td>-0.327642</td>\n",
       "      <td>-0.139097</td>\n",
       "      <td>-0.055353</td>\n",
       "      <td>-0.059752</td>\n",
       "      <td>0</td>\n",
       "      <td>1.160686</td>\n",
       "    </tr>\n",
       "    <tr>\n",
       "      <th>3</th>\n",
       "      <td>1.0</td>\n",
       "      <td>-0.966272</td>\n",
       "      <td>-0.185226</td>\n",
       "      <td>1.792993</td>\n",
       "      <td>-0.863291</td>\n",
       "      <td>-0.010309</td>\n",
       "      <td>1.247203</td>\n",
       "      <td>0.237609</td>\n",
       "      <td>0.377436</td>\n",
       "      <td>-1.387024</td>\n",
       "      <td>...</td>\n",
       "      <td>-0.108300</td>\n",
       "      <td>0.005274</td>\n",
       "      <td>-0.190321</td>\n",
       "      <td>-1.175575</td>\n",
       "      <td>0.647376</td>\n",
       "      <td>-0.221929</td>\n",
       "      <td>0.062723</td>\n",
       "      <td>0.061458</td>\n",
       "      <td>0</td>\n",
       "      <td>0.140534</td>\n",
       "    </tr>\n",
       "    <tr>\n",
       "      <th>4</th>\n",
       "      <td>2.0</td>\n",
       "      <td>-1.158233</td>\n",
       "      <td>0.877737</td>\n",
       "      <td>1.548718</td>\n",
       "      <td>0.403034</td>\n",
       "      <td>-0.407193</td>\n",
       "      <td>0.095921</td>\n",
       "      <td>0.592941</td>\n",
       "      <td>-0.270533</td>\n",
       "      <td>0.817739</td>\n",
       "      <td>...</td>\n",
       "      <td>-0.009431</td>\n",
       "      <td>0.798278</td>\n",
       "      <td>-0.137458</td>\n",
       "      <td>0.141267</td>\n",
       "      <td>-0.206010</td>\n",
       "      <td>0.502292</td>\n",
       "      <td>0.219422</td>\n",
       "      <td>0.215153</td>\n",
       "      <td>0</td>\n",
       "      <td>-0.073403</td>\n",
       "    </tr>\n",
       "  </tbody>\n",
       "</table>\n",
       "<p>5 rows × 31 columns</p>\n",
       "</div>"
      ],
      "text/plain": [
       "   Time        V1        V2        V3        V4        V5        V6        V7  \\\n",
       "0   0.0 -1.359807 -0.072781  2.536347  1.378155 -0.338321  0.462388  0.239599   \n",
       "1   0.0  1.191857  0.266151  0.166480  0.448154  0.060018 -0.082361 -0.078803   \n",
       "2   1.0 -1.358354 -1.340163  1.773209  0.379780 -0.503198  1.800499  0.791461   \n",
       "3   1.0 -0.966272 -0.185226  1.792993 -0.863291 -0.010309  1.247203  0.237609   \n",
       "4   2.0 -1.158233  0.877737  1.548718  0.403034 -0.407193  0.095921  0.592941   \n",
       "\n",
       "         V8        V9  ...       V21       V22       V23       V24       V25  \\\n",
       "0  0.098698  0.363787  ... -0.018307  0.277838 -0.110474  0.066928  0.128539   \n",
       "1  0.085102 -0.255425  ... -0.225775 -0.638672  0.101288 -0.339846  0.167170   \n",
       "2  0.247676 -1.514654  ...  0.247998  0.771679  0.909412 -0.689281 -0.327642   \n",
       "3  0.377436 -1.387024  ... -0.108300  0.005274 -0.190321 -1.175575  0.647376   \n",
       "4 -0.270533  0.817739  ... -0.009431  0.798278 -0.137458  0.141267 -0.206010   \n",
       "\n",
       "        V26       V27       V28  Class  normalizedAmount  \n",
       "0 -0.189115  0.133558 -0.021053      0          0.244964  \n",
       "1  0.125895 -0.008983  0.014724      0         -0.342475  \n",
       "2 -0.139097 -0.055353 -0.059752      0          1.160686  \n",
       "3 -0.221929  0.062723  0.061458      0          0.140534  \n",
       "4  0.502292  0.219422  0.215153      0         -0.073403  \n",
       "\n",
       "[5 rows x 31 columns]"
      ]
     },
     "execution_count": 5,
     "metadata": {},
     "output_type": "execute_result"
    }
   ],
   "source": [
    "data.head()"
   ]
  },
  {
   "cell_type": "code",
   "execution_count": 6,
   "id": "a7f4b701",
   "metadata": {
    "execution": {
     "iopub.execute_input": "2022-06-26T18:48:15.386472Z",
     "iopub.status.busy": "2022-06-26T18:48:15.386040Z",
     "iopub.status.idle": "2022-06-26T18:48:15.438241Z",
     "shell.execute_reply": "2022-06-26T18:48:15.437164Z"
    },
    "papermill": {
     "duration": 0.067931,
     "end_time": "2022-06-26T18:48:15.440499",
     "exception": false,
     "start_time": "2022-06-26T18:48:15.372568",
     "status": "completed"
    },
    "tags": []
   },
   "outputs": [
    {
     "data": {
      "text/html": [
       "<div>\n",
       "<style scoped>\n",
       "    .dataframe tbody tr th:only-of-type {\n",
       "        vertical-align: middle;\n",
       "    }\n",
       "\n",
       "    .dataframe tbody tr th {\n",
       "        vertical-align: top;\n",
       "    }\n",
       "\n",
       "    .dataframe thead th {\n",
       "        text-align: right;\n",
       "    }\n",
       "</style>\n",
       "<table border=\"1\" class=\"dataframe\">\n",
       "  <thead>\n",
       "    <tr style=\"text-align: right;\">\n",
       "      <th></th>\n",
       "      <th>V1</th>\n",
       "      <th>V2</th>\n",
       "      <th>V3</th>\n",
       "      <th>V4</th>\n",
       "      <th>V5</th>\n",
       "      <th>V6</th>\n",
       "      <th>V7</th>\n",
       "      <th>V8</th>\n",
       "      <th>V9</th>\n",
       "      <th>V10</th>\n",
       "      <th>...</th>\n",
       "      <th>V21</th>\n",
       "      <th>V22</th>\n",
       "      <th>V23</th>\n",
       "      <th>V24</th>\n",
       "      <th>V25</th>\n",
       "      <th>V26</th>\n",
       "      <th>V27</th>\n",
       "      <th>V28</th>\n",
       "      <th>Class</th>\n",
       "      <th>normalizedAmount</th>\n",
       "    </tr>\n",
       "  </thead>\n",
       "  <tbody>\n",
       "    <tr>\n",
       "      <th>0</th>\n",
       "      <td>-1.359807</td>\n",
       "      <td>-0.072781</td>\n",
       "      <td>2.536347</td>\n",
       "      <td>1.378155</td>\n",
       "      <td>-0.338321</td>\n",
       "      <td>0.462388</td>\n",
       "      <td>0.239599</td>\n",
       "      <td>0.098698</td>\n",
       "      <td>0.363787</td>\n",
       "      <td>0.090794</td>\n",
       "      <td>...</td>\n",
       "      <td>-0.018307</td>\n",
       "      <td>0.277838</td>\n",
       "      <td>-0.110474</td>\n",
       "      <td>0.066928</td>\n",
       "      <td>0.128539</td>\n",
       "      <td>-0.189115</td>\n",
       "      <td>0.133558</td>\n",
       "      <td>-0.021053</td>\n",
       "      <td>0</td>\n",
       "      <td>0.244964</td>\n",
       "    </tr>\n",
       "    <tr>\n",
       "      <th>1</th>\n",
       "      <td>1.191857</td>\n",
       "      <td>0.266151</td>\n",
       "      <td>0.166480</td>\n",
       "      <td>0.448154</td>\n",
       "      <td>0.060018</td>\n",
       "      <td>-0.082361</td>\n",
       "      <td>-0.078803</td>\n",
       "      <td>0.085102</td>\n",
       "      <td>-0.255425</td>\n",
       "      <td>-0.166974</td>\n",
       "      <td>...</td>\n",
       "      <td>-0.225775</td>\n",
       "      <td>-0.638672</td>\n",
       "      <td>0.101288</td>\n",
       "      <td>-0.339846</td>\n",
       "      <td>0.167170</td>\n",
       "      <td>0.125895</td>\n",
       "      <td>-0.008983</td>\n",
       "      <td>0.014724</td>\n",
       "      <td>0</td>\n",
       "      <td>-0.342475</td>\n",
       "    </tr>\n",
       "    <tr>\n",
       "      <th>2</th>\n",
       "      <td>-1.358354</td>\n",
       "      <td>-1.340163</td>\n",
       "      <td>1.773209</td>\n",
       "      <td>0.379780</td>\n",
       "      <td>-0.503198</td>\n",
       "      <td>1.800499</td>\n",
       "      <td>0.791461</td>\n",
       "      <td>0.247676</td>\n",
       "      <td>-1.514654</td>\n",
       "      <td>0.207643</td>\n",
       "      <td>...</td>\n",
       "      <td>0.247998</td>\n",
       "      <td>0.771679</td>\n",
       "      <td>0.909412</td>\n",
       "      <td>-0.689281</td>\n",
       "      <td>-0.327642</td>\n",
       "      <td>-0.139097</td>\n",
       "      <td>-0.055353</td>\n",
       "      <td>-0.059752</td>\n",
       "      <td>0</td>\n",
       "      <td>1.160686</td>\n",
       "    </tr>\n",
       "    <tr>\n",
       "      <th>3</th>\n",
       "      <td>-0.966272</td>\n",
       "      <td>-0.185226</td>\n",
       "      <td>1.792993</td>\n",
       "      <td>-0.863291</td>\n",
       "      <td>-0.010309</td>\n",
       "      <td>1.247203</td>\n",
       "      <td>0.237609</td>\n",
       "      <td>0.377436</td>\n",
       "      <td>-1.387024</td>\n",
       "      <td>-0.054952</td>\n",
       "      <td>...</td>\n",
       "      <td>-0.108300</td>\n",
       "      <td>0.005274</td>\n",
       "      <td>-0.190321</td>\n",
       "      <td>-1.175575</td>\n",
       "      <td>0.647376</td>\n",
       "      <td>-0.221929</td>\n",
       "      <td>0.062723</td>\n",
       "      <td>0.061458</td>\n",
       "      <td>0</td>\n",
       "      <td>0.140534</td>\n",
       "    </tr>\n",
       "    <tr>\n",
       "      <th>4</th>\n",
       "      <td>-1.158233</td>\n",
       "      <td>0.877737</td>\n",
       "      <td>1.548718</td>\n",
       "      <td>0.403034</td>\n",
       "      <td>-0.407193</td>\n",
       "      <td>0.095921</td>\n",
       "      <td>0.592941</td>\n",
       "      <td>-0.270533</td>\n",
       "      <td>0.817739</td>\n",
       "      <td>0.753074</td>\n",
       "      <td>...</td>\n",
       "      <td>-0.009431</td>\n",
       "      <td>0.798278</td>\n",
       "      <td>-0.137458</td>\n",
       "      <td>0.141267</td>\n",
       "      <td>-0.206010</td>\n",
       "      <td>0.502292</td>\n",
       "      <td>0.219422</td>\n",
       "      <td>0.215153</td>\n",
       "      <td>0</td>\n",
       "      <td>-0.073403</td>\n",
       "    </tr>\n",
       "  </tbody>\n",
       "</table>\n",
       "<p>5 rows × 30 columns</p>\n",
       "</div>"
      ],
      "text/plain": [
       "         V1        V2        V3        V4        V5        V6        V7  \\\n",
       "0 -1.359807 -0.072781  2.536347  1.378155 -0.338321  0.462388  0.239599   \n",
       "1  1.191857  0.266151  0.166480  0.448154  0.060018 -0.082361 -0.078803   \n",
       "2 -1.358354 -1.340163  1.773209  0.379780 -0.503198  1.800499  0.791461   \n",
       "3 -0.966272 -0.185226  1.792993 -0.863291 -0.010309  1.247203  0.237609   \n",
       "4 -1.158233  0.877737  1.548718  0.403034 -0.407193  0.095921  0.592941   \n",
       "\n",
       "         V8        V9       V10  ...       V21       V22       V23       V24  \\\n",
       "0  0.098698  0.363787  0.090794  ... -0.018307  0.277838 -0.110474  0.066928   \n",
       "1  0.085102 -0.255425 -0.166974  ... -0.225775 -0.638672  0.101288 -0.339846   \n",
       "2  0.247676 -1.514654  0.207643  ...  0.247998  0.771679  0.909412 -0.689281   \n",
       "3  0.377436 -1.387024 -0.054952  ... -0.108300  0.005274 -0.190321 -1.175575   \n",
       "4 -0.270533  0.817739  0.753074  ... -0.009431  0.798278 -0.137458  0.141267   \n",
       "\n",
       "        V25       V26       V27       V28  Class  normalizedAmount  \n",
       "0  0.128539 -0.189115  0.133558 -0.021053      0          0.244964  \n",
       "1  0.167170  0.125895 -0.008983  0.014724      0         -0.342475  \n",
       "2 -0.327642 -0.139097 -0.055353 -0.059752      0          1.160686  \n",
       "3  0.647376 -0.221929  0.062723  0.061458      0          0.140534  \n",
       "4 -0.206010  0.502292  0.219422  0.215153      0         -0.073403  \n",
       "\n",
       "[5 rows x 30 columns]"
      ]
     },
     "execution_count": 6,
     "metadata": {},
     "output_type": "execute_result"
    }
   ],
   "source": [
    "data = data.drop(['Time'],axis=1)\n",
    "data.head()"
   ]
  },
  {
   "cell_type": "code",
   "execution_count": 7,
   "id": "ae3e7f87",
   "metadata": {
    "execution": {
     "iopub.execute_input": "2022-06-26T18:48:15.466737Z",
     "iopub.status.busy": "2022-06-26T18:48:15.466294Z",
     "iopub.status.idle": "2022-06-26T18:48:15.505690Z",
     "shell.execute_reply": "2022-06-26T18:48:15.504530Z"
    },
    "papermill": {
     "duration": 0.055152,
     "end_time": "2022-06-26T18:48:15.507915",
     "exception": false,
     "start_time": "2022-06-26T18:48:15.452763",
     "status": "completed"
    },
    "tags": []
   },
   "outputs": [],
   "source": [
    "X = data.iloc[:, data.columns != 'Class']\n",
    "y = data.iloc[:, data.columns == 'Class']"
   ]
  },
  {
   "cell_type": "code",
   "execution_count": 8,
   "id": "17d41ef9",
   "metadata": {
    "execution": {
     "iopub.execute_input": "2022-06-26T18:48:15.533978Z",
     "iopub.status.busy": "2022-06-26T18:48:15.533550Z",
     "iopub.status.idle": "2022-06-26T18:48:15.543499Z",
     "shell.execute_reply": "2022-06-26T18:48:15.542256Z"
    },
    "papermill": {
     "duration": 0.025862,
     "end_time": "2022-06-26T18:48:15.545709",
     "exception": false,
     "start_time": "2022-06-26T18:48:15.519847",
     "status": "completed"
    },
    "tags": []
   },
   "outputs": [
    {
     "data": {
      "text/html": [
       "<div>\n",
       "<style scoped>\n",
       "    .dataframe tbody tr th:only-of-type {\n",
       "        vertical-align: middle;\n",
       "    }\n",
       "\n",
       "    .dataframe tbody tr th {\n",
       "        vertical-align: top;\n",
       "    }\n",
       "\n",
       "    .dataframe thead th {\n",
       "        text-align: right;\n",
       "    }\n",
       "</style>\n",
       "<table border=\"1\" class=\"dataframe\">\n",
       "  <thead>\n",
       "    <tr style=\"text-align: right;\">\n",
       "      <th></th>\n",
       "      <th>Class</th>\n",
       "    </tr>\n",
       "  </thead>\n",
       "  <tbody>\n",
       "    <tr>\n",
       "      <th>0</th>\n",
       "      <td>0</td>\n",
       "    </tr>\n",
       "    <tr>\n",
       "      <th>1</th>\n",
       "      <td>0</td>\n",
       "    </tr>\n",
       "    <tr>\n",
       "      <th>2</th>\n",
       "      <td>0</td>\n",
       "    </tr>\n",
       "    <tr>\n",
       "      <th>3</th>\n",
       "      <td>0</td>\n",
       "    </tr>\n",
       "    <tr>\n",
       "      <th>4</th>\n",
       "      <td>0</td>\n",
       "    </tr>\n",
       "  </tbody>\n",
       "</table>\n",
       "</div>"
      ],
      "text/plain": [
       "   Class\n",
       "0      0\n",
       "1      0\n",
       "2      0\n",
       "3      0\n",
       "4      0"
      ]
     },
     "execution_count": 8,
     "metadata": {},
     "output_type": "execute_result"
    }
   ],
   "source": [
    "y.head()"
   ]
  },
  {
   "cell_type": "code",
   "execution_count": 9,
   "id": "d4e62275",
   "metadata": {
    "execution": {
     "iopub.execute_input": "2022-06-26T18:48:15.572190Z",
     "iopub.status.busy": "2022-06-26T18:48:15.571754Z",
     "iopub.status.idle": "2022-06-26T18:48:15.740857Z",
     "shell.execute_reply": "2022-06-26T18:48:15.739788Z"
    },
    "papermill": {
     "duration": 0.185588,
     "end_time": "2022-06-26T18:48:15.743451",
     "exception": false,
     "start_time": "2022-06-26T18:48:15.557863",
     "status": "completed"
    },
    "tags": []
   },
   "outputs": [],
   "source": [
    "from sklearn.model_selection import train_test_split\n",
    "X_train, X_test, y_train, y_test = train_test_split(X,y, test_size = 0.3, random_state=0)"
   ]
  },
  {
   "cell_type": "code",
   "execution_count": 10,
   "id": "7c602b13",
   "metadata": {
    "execution": {
     "iopub.execute_input": "2022-06-26T18:48:15.769820Z",
     "iopub.status.busy": "2022-06-26T18:48:15.768921Z",
     "iopub.status.idle": "2022-06-26T18:48:15.775103Z",
     "shell.execute_reply": "2022-06-26T18:48:15.774357Z"
    },
    "papermill": {
     "duration": 0.021635,
     "end_time": "2022-06-26T18:48:15.777140",
     "exception": false,
     "start_time": "2022-06-26T18:48:15.755505",
     "status": "completed"
    },
    "tags": []
   },
   "outputs": [
    {
     "data": {
      "text/plain": [
       "(199364, 29)"
      ]
     },
     "execution_count": 10,
     "metadata": {},
     "output_type": "execute_result"
    }
   ],
   "source": [
    "X_train.shape"
   ]
  },
  {
   "cell_type": "code",
   "execution_count": 11,
   "id": "8ba03d8a",
   "metadata": {
    "execution": {
     "iopub.execute_input": "2022-06-26T18:48:15.804653Z",
     "iopub.status.busy": "2022-06-26T18:48:15.803124Z",
     "iopub.status.idle": "2022-06-26T18:48:15.811064Z",
     "shell.execute_reply": "2022-06-26T18:48:15.809863Z"
    },
    "papermill": {
     "duration": 0.024007,
     "end_time": "2022-06-26T18:48:15.813445",
     "exception": false,
     "start_time": "2022-06-26T18:48:15.789438",
     "status": "completed"
    },
    "tags": []
   },
   "outputs": [
    {
     "data": {
      "text/plain": [
       "(85443, 29)"
      ]
     },
     "execution_count": 11,
     "metadata": {},
     "output_type": "execute_result"
    }
   ],
   "source": [
    "X_test.shape"
   ]
  },
  {
   "cell_type": "code",
   "execution_count": 12,
   "id": "bb152ff2",
   "metadata": {
    "execution": {
     "iopub.execute_input": "2022-06-26T18:48:15.840020Z",
     "iopub.status.busy": "2022-06-26T18:48:15.839621Z",
     "iopub.status.idle": "2022-06-26T18:48:15.881552Z",
     "shell.execute_reply": "2022-06-26T18:48:15.880483Z"
    },
    "papermill": {
     "duration": 0.05863,
     "end_time": "2022-06-26T18:48:15.884318",
     "exception": false,
     "start_time": "2022-06-26T18:48:15.825688",
     "status": "completed"
    },
    "tags": []
   },
   "outputs": [],
   "source": [
    "X_train = np.array(X_train)\n",
    "X_test = np.array(X_test)\n",
    "y_train = np.array(y_train)\n",
    "y_test = np.array(y_test)"
   ]
  },
  {
   "cell_type": "markdown",
   "id": "dfeef1bd",
   "metadata": {
    "papermill": {
     "duration": 0.012061,
     "end_time": "2022-06-26T18:48:15.908677",
     "exception": false,
     "start_time": "2022-06-26T18:48:15.896616",
     "status": "completed"
    },
    "tags": []
   },
   "source": [
    "## Deep neural network"
   ]
  },
  {
   "cell_type": "code",
   "execution_count": 13,
   "id": "c9e597de",
   "metadata": {
    "execution": {
     "iopub.execute_input": "2022-06-26T18:48:15.935322Z",
     "iopub.status.busy": "2022-06-26T18:48:15.934642Z",
     "iopub.status.idle": "2022-06-26T18:48:15.940006Z",
     "shell.execute_reply": "2022-06-26T18:48:15.938930Z"
    },
    "papermill": {
     "duration": 0.021161,
     "end_time": "2022-06-26T18:48:15.942156",
     "exception": false,
     "start_time": "2022-06-26T18:48:15.920995",
     "status": "completed"
    },
    "tags": []
   },
   "outputs": [],
   "source": [
    "from keras.models import Sequential\n",
    "from keras.layers import Dense\n",
    "from keras.layers import Dropout"
   ]
  },
  {
   "cell_type": "code",
   "execution_count": 14,
   "id": "049e9974",
   "metadata": {
    "execution": {
     "iopub.execute_input": "2022-06-26T18:48:15.968562Z",
     "iopub.status.busy": "2022-06-26T18:48:15.968165Z",
     "iopub.status.idle": "2022-06-26T18:48:16.118383Z",
     "shell.execute_reply": "2022-06-26T18:48:16.115552Z"
    },
    "papermill": {
     "duration": 0.167216,
     "end_time": "2022-06-26T18:48:16.121591",
     "exception": false,
     "start_time": "2022-06-26T18:48:15.954375",
     "status": "completed"
    },
    "tags": []
   },
   "outputs": [
    {
     "name": "stderr",
     "output_type": "stream",
     "text": [
      "2022-06-26 18:48:16.019595: I tensorflow/core/common_runtime/process_util.cc:146] Creating new thread pool with default inter op setting: 2. Tune using inter_op_parallelism_threads for best performance.\n"
     ]
    }
   ],
   "source": [
    "model = Sequential([\n",
    "    Dense(units=16, input_dim = 29,activation='relu'),\n",
    "    Dense(units=24,activation='relu'),\n",
    "    Dropout(0.5),\n",
    "    Dense(20,activation='relu'),\n",
    "    Dense(24,activation='relu'),\n",
    "    Dense(1,activation='sigmoid'),\n",
    "])"
   ]
  },
  {
   "cell_type": "code",
   "execution_count": 15,
   "id": "63da7996",
   "metadata": {
    "execution": {
     "iopub.execute_input": "2022-06-26T18:48:16.149904Z",
     "iopub.status.busy": "2022-06-26T18:48:16.149050Z",
     "iopub.status.idle": "2022-06-26T18:48:16.156753Z",
     "shell.execute_reply": "2022-06-26T18:48:16.155488Z"
    },
    "papermill": {
     "duration": 0.024337,
     "end_time": "2022-06-26T18:48:16.159073",
     "exception": false,
     "start_time": "2022-06-26T18:48:16.134736",
     "status": "completed"
    },
    "tags": []
   },
   "outputs": [
    {
     "name": "stdout",
     "output_type": "stream",
     "text": [
      "Model: \"sequential\"\n",
      "_________________________________________________________________\n",
      "Layer (type)                 Output Shape              Param #   \n",
      "=================================================================\n",
      "dense (Dense)                (None, 16)                480       \n",
      "_________________________________________________________________\n",
      "dense_1 (Dense)              (None, 24)                408       \n",
      "_________________________________________________________________\n",
      "dropout (Dropout)            (None, 24)                0         \n",
      "_________________________________________________________________\n",
      "dense_2 (Dense)              (None, 20)                500       \n",
      "_________________________________________________________________\n",
      "dense_3 (Dense)              (None, 24)                504       \n",
      "_________________________________________________________________\n",
      "dense_4 (Dense)              (None, 1)                 25        \n",
      "=================================================================\n",
      "Total params: 1,917\n",
      "Trainable params: 1,917\n",
      "Non-trainable params: 0\n",
      "_________________________________________________________________\n"
     ]
    }
   ],
   "source": [
    "model.summary()"
   ]
  },
  {
   "cell_type": "markdown",
   "id": "76ddb127",
   "metadata": {
    "papermill": {
     "duration": 0.012561,
     "end_time": "2022-06-26T18:48:16.184166",
     "exception": false,
     "start_time": "2022-06-26T18:48:16.171605",
     "status": "completed"
    },
    "tags": []
   },
   "source": [
    "## Training"
   ]
  },
  {
   "cell_type": "code",
   "execution_count": 16,
   "id": "faf38154",
   "metadata": {
    "execution": {
     "iopub.execute_input": "2022-06-26T18:48:16.212711Z",
     "iopub.status.busy": "2022-06-26T18:48:16.211578Z",
     "iopub.status.idle": "2022-06-26T18:50:31.170185Z",
     "shell.execute_reply": "2022-06-26T18:50:31.169392Z"
    },
    "papermill": {
     "duration": 134.974846,
     "end_time": "2022-06-26T18:50:31.172642",
     "exception": false,
     "start_time": "2022-06-26T18:48:16.197796",
     "status": "completed"
    },
    "tags": []
   },
   "outputs": [
    {
     "name": "stderr",
     "output_type": "stream",
     "text": [
      "2022-06-26 18:48:16.340656: I tensorflow/compiler/mlir/mlir_graph_optimization_pass.cc:185] None of the MLIR Optimization Passes are enabled (registered 2)\n"
     ]
    },
    {
     "name": "stdout",
     "output_type": "stream",
     "text": [
      "Epoch 1/5\n",
      "13291/13291 [==============================] - 28s 2ms/step - loss: 0.0084 - accuracy: 0.9986\n",
      "Epoch 2/5\n",
      "13291/13291 [==============================] - 27s 2ms/step - loss: 0.0040 - accuracy: 0.9993\n",
      "Epoch 3/5\n",
      "13291/13291 [==============================] - 27s 2ms/step - loss: 0.0037 - accuracy: 0.9993\n",
      "Epoch 4/5\n",
      "13291/13291 [==============================] - 26s 2ms/step - loss: 0.0035 - accuracy: 0.9993\n",
      "Epoch 5/5\n",
      "13291/13291 [==============================] - 27s 2ms/step - loss: 0.0034 - accuracy: 0.9993\n"
     ]
    },
    {
     "data": {
      "text/plain": [
       "<keras.callbacks.History at 0x7fcedb1f67d0>"
      ]
     },
     "execution_count": 16,
     "metadata": {},
     "output_type": "execute_result"
    }
   ],
   "source": [
    "model.compile(optimizer='adam',loss='binary_crossentropy',metrics=['accuracy'])\n",
    "model.fit(X_train,y_train,batch_size=15,epochs=5)"
   ]
  },
  {
   "cell_type": "code",
   "execution_count": 17,
   "id": "3dbec7b4",
   "metadata": {
    "execution": {
     "iopub.execute_input": "2022-06-26T18:50:31.577727Z",
     "iopub.status.busy": "2022-06-26T18:50:31.576944Z",
     "iopub.status.idle": "2022-06-26T18:50:35.414739Z",
     "shell.execute_reply": "2022-06-26T18:50:35.413385Z"
    },
    "papermill": {
     "duration": 4.04206,
     "end_time": "2022-06-26T18:50:35.417861",
     "exception": false,
     "start_time": "2022-06-26T18:50:31.375801",
     "status": "completed"
    },
    "tags": []
   },
   "outputs": [
    {
     "name": "stdout",
     "output_type": "stream",
     "text": [
      "2671/2671 [==============================] - 4s 1ms/step - loss: 0.0036 - accuracy: 0.9994\n"
     ]
    }
   ],
   "source": [
    "score = model.evaluate(X_test, y_test)"
   ]
  },
  {
   "cell_type": "code",
   "execution_count": 18,
   "id": "555ccc78",
   "metadata": {
    "execution": {
     "iopub.execute_input": "2022-06-26T18:50:35.829654Z",
     "iopub.status.busy": "2022-06-26T18:50:35.828646Z",
     "iopub.status.idle": "2022-06-26T18:50:35.834103Z",
     "shell.execute_reply": "2022-06-26T18:50:35.832951Z"
    },
    "papermill": {
     "duration": 0.213056,
     "end_time": "2022-06-26T18:50:35.836484",
     "exception": false,
     "start_time": "2022-06-26T18:50:35.623428",
     "status": "completed"
    },
    "tags": []
   },
   "outputs": [
    {
     "name": "stdout",
     "output_type": "stream",
     "text": [
      "[0.0035975303035229445, 0.9993562698364258]\n"
     ]
    }
   ],
   "source": [
    "print(score)"
   ]
  },
  {
   "cell_type": "code",
   "execution_count": 19,
   "id": "f8fad6db",
   "metadata": {
    "execution": {
     "iopub.execute_input": "2022-06-26T18:50:36.327649Z",
     "iopub.status.busy": "2022-06-26T18:50:36.326966Z",
     "iopub.status.idle": "2022-06-26T18:50:36.491856Z",
     "shell.execute_reply": "2022-06-26T18:50:36.490718Z"
    },
    "papermill": {
     "duration": 0.380705,
     "end_time": "2022-06-26T18:50:36.494709",
     "exception": false,
     "start_time": "2022-06-26T18:50:36.114004",
     "status": "completed"
    },
    "tags": []
   },
   "outputs": [],
   "source": [
    "import matplotlib.pyplot as plt\n",
    "import itertools\n",
    "\n",
    "from sklearn import svm, datasets\n",
    "from sklearn.metrics import confusion_matrix\n",
    "\n",
    "def plot_confusion_matrix(cm, classes,\n",
    "                          normalize=False,\n",
    "                          title='Confusion matrix',\n",
    "                          cmap=plt.cm.Blues):\n",
    "    \"\"\"\n",
    "    This function prints and plots the confusion matrix.\n",
    "    Normalization can be applied by setting `normalize=True`.\n",
    "    \"\"\"\n",
    "    if normalize:\n",
    "        cm = cm.astype('float') / cm.sum(axis=1)[:, np.newaxis]\n",
    "        print(\"Normalized confusion matrix\")\n",
    "    else:\n",
    "        print('Confusion matrix, without normalization')\n",
    "\n",
    "    print(cm)\n",
    "\n",
    "    plt.imshow(cm, interpolation='nearest', cmap=cmap)\n",
    "    plt.title(title)\n",
    "    plt.colorbar()\n",
    "    tick_marks = np.arange(len(classes))\n",
    "    plt.xticks(tick_marks, classes, rotation=45)\n",
    "    plt.yticks(tick_marks, classes)\n",
    "\n",
    "    fmt = '.2f' if normalize else 'd'\n",
    "    thresh = cm.max() / 2.\n",
    "    for i, j in itertools.product(range(cm.shape[0]), range(cm.shape[1])):\n",
    "        plt.text(j, i, format(cm[i, j], fmt),\n",
    "                 horizontalalignment=\"center\",\n",
    "                 color=\"white\" if cm[i, j] > thresh else \"black\")\n",
    "\n",
    "    plt.ylabel('True label')\n",
    "    plt.xlabel('Predicted label')\n",
    "    plt.tight_layout()"
   ]
  },
  {
   "cell_type": "code",
   "execution_count": 20,
   "id": "dc9a6bcc",
   "metadata": {
    "execution": {
     "iopub.execute_input": "2022-06-26T18:50:36.908954Z",
     "iopub.status.busy": "2022-06-26T18:50:36.908574Z",
     "iopub.status.idle": "2022-06-26T18:50:39.900957Z",
     "shell.execute_reply": "2022-06-26T18:50:39.900037Z"
    },
    "papermill": {
     "duration": 3.20378,
     "end_time": "2022-06-26T18:50:39.903728",
     "exception": false,
     "start_time": "2022-06-26T18:50:36.699948",
     "status": "completed"
    },
    "tags": []
   },
   "outputs": [],
   "source": [
    "y_pred = model.predict(X_test)\n",
    "y_test = pd.DataFrame(y_test)"
   ]
  },
  {
   "cell_type": "code",
   "execution_count": 21,
   "id": "a8657ab8",
   "metadata": {
    "execution": {
     "iopub.execute_input": "2022-06-26T18:50:40.315191Z",
     "iopub.status.busy": "2022-06-26T18:50:40.314421Z",
     "iopub.status.idle": "2022-06-26T18:50:40.336921Z",
     "shell.execute_reply": "2022-06-26T18:50:40.335766Z"
    },
    "papermill": {
     "duration": 0.229956,
     "end_time": "2022-06-26T18:50:40.339575",
     "exception": false,
     "start_time": "2022-06-26T18:50:40.109619",
     "status": "completed"
    },
    "tags": []
   },
   "outputs": [],
   "source": [
    "cnf_matrix = confusion_matrix(y_test, y_pred.round())"
   ]
  },
  {
   "cell_type": "code",
   "execution_count": 22,
   "id": "5e295ef7",
   "metadata": {
    "execution": {
     "iopub.execute_input": "2022-06-26T18:50:40.748713Z",
     "iopub.status.busy": "2022-06-26T18:50:40.748251Z",
     "iopub.status.idle": "2022-06-26T18:50:40.753240Z",
     "shell.execute_reply": "2022-06-26T18:50:40.752463Z"
    },
    "papermill": {
     "duration": 0.214277,
     "end_time": "2022-06-26T18:50:40.757121",
     "exception": false,
     "start_time": "2022-06-26T18:50:40.542844",
     "status": "completed"
    },
    "tags": []
   },
   "outputs": [
    {
     "name": "stdout",
     "output_type": "stream",
     "text": [
      "[[85281    15]\n",
      " [   40   107]]\n"
     ]
    }
   ],
   "source": [
    "print(cnf_matrix)"
   ]
  },
  {
   "cell_type": "code",
   "execution_count": 23,
   "id": "50715c47",
   "metadata": {
    "execution": {
     "iopub.execute_input": "2022-06-26T18:50:41.220565Z",
     "iopub.status.busy": "2022-06-26T18:50:41.219821Z",
     "iopub.status.idle": "2022-06-26T18:50:41.445459Z",
     "shell.execute_reply": "2022-06-26T18:50:41.444372Z"
    },
    "papermill": {
     "duration": 0.487899,
     "end_time": "2022-06-26T18:50:41.447898",
     "exception": false,
     "start_time": "2022-06-26T18:50:40.959999",
     "status": "completed"
    },
    "tags": []
   },
   "outputs": [
    {
     "name": "stdout",
     "output_type": "stream",
     "text": [
      "Confusion matrix, without normalization\n",
      "[[85281    15]\n",
      " [   40   107]]\n"
     ]
    },
    {
     "data": {
      "image/png": "[encoded data removed]",
      "text/plain": [
       "<Figure size 432x288 with 2 Axes>"
      ]
     },
     "metadata": {
      "needs_background": "light"
     },
     "output_type": "display_data"
    }
   ],
   "source": [
    "plot_confusion_matrix(cnf_matrix, classes=[0,1])"
   ]
  },
  {
   "cell_type": "code",
   "execution_count": 24,
   "id": "0f80dede",
   "metadata": {
    "execution": {
     "iopub.execute_input": "2022-06-26T18:50:41.858664Z",
     "iopub.status.busy": "2022-06-26T18:50:41.858217Z",
     "iopub.status.idle": "2022-06-26T18:50:41.863245Z",
     "shell.execute_reply": "2022-06-26T18:50:41.862185Z"
    },
    "papermill": {
     "duration": 0.213386,
     "end_time": "2022-06-26T18:50:41.865487",
     "exception": false,
     "start_time": "2022-06-26T18:50:41.652101",
     "status": "completed"
    },
    "tags": []
   },
   "outputs": [],
   "source": [
    "plt.show()"
   ]
  },
  {
   "cell_type": "code",
   "execution_count": 25,
   "id": "e8ba5835",
   "metadata": {
    "execution": {
     "iopub.execute_input": "2022-06-26T18:50:42.281167Z",
     "iopub.status.busy": "2022-06-26T18:50:42.279927Z",
     "iopub.status.idle": "2022-06-26T18:50:54.023737Z",
     "shell.execute_reply": "2022-06-26T18:50:54.022419Z"
    },
    "papermill": {
     "duration": 11.955098,
     "end_time": "2022-06-26T18:50:54.026291",
     "exception": false,
     "start_time": "2022-06-26T18:50:42.071193",
     "status": "completed"
    },
    "tags": []
   },
   "outputs": [
    {
     "name": "stdout",
     "output_type": "stream",
     "text": [
      "Confusion matrix, without normalization\n",
      "[[284272     43]\n",
      " [   134    358]]\n"
     ]
    },
    {
     "data": {
      "image/png": "[encoded data removed]",
      "text/plain": [
       "<Figure size 432x288 with 2 Axes>"
      ]
     },
     "metadata": {
      "needs_background": "light"
     },
     "output_type": "display_data"
    }
   ],
   "source": [
    "y_pred = model.predict(X)\n",
    "y_expected = pd.DataFrame(y)\n",
    "cnf_matrix = confusion_matrix(y_expected, y_pred.round())\n",
    "plot_confusion_matrix(cnf_matrix,classes=[0,1])\n",
    "plt.show()"
   ]
  },
  {
   "cell_type": "markdown",
   "id": "4e55d34f",
   "metadata": {
    "papermill": {
     "duration": 0.203714,
     "end_time": "2022-06-26T18:50:54.455559",
     "exception": false,
     "start_time": "2022-06-26T18:50:54.251845",
     "status": "completed"
    },
    "tags": []
   },
   "source": [
    "## Undersampling"
   ]
  },
  {
   "cell_type": "code",
   "execution_count": 26,
   "id": "27d16b16",
   "metadata": {
    "execution": {
     "iopub.execute_input": "2022-06-26T18:50:54.864927Z",
     "iopub.status.busy": "2022-06-26T18:50:54.864456Z",
     "iopub.status.idle": "2022-06-26T18:50:54.873946Z",
     "shell.execute_reply": "2022-06-26T18:50:54.872505Z"
    },
    "papermill": {
     "duration": 0.217651,
     "end_time": "2022-06-26T18:50:54.876664",
     "exception": false,
     "start_time": "2022-06-26T18:50:54.659013",
     "status": "completed"
    },
    "tags": []
   },
   "outputs": [
    {
     "name": "stdout",
     "output_type": "stream",
     "text": [
      "492\n"
     ]
    }
   ],
   "source": [
    "fraud_indices = np.array(data[data.Class == 1].index)\n",
    "number_records_fraud = len(fraud_indices)\n",
    "print(number_records_fraud)"
   ]
  },
  {
   "cell_type": "code",
   "execution_count": 27,
   "id": "ef3db369",
   "metadata": {
    "execution": {
     "iopub.execute_input": "2022-06-26T18:50:55.291186Z",
     "iopub.status.busy": "2022-06-26T18:50:55.290787Z",
     "iopub.status.idle": "2022-06-26T18:50:55.333912Z",
     "shell.execute_reply": "2022-06-26T18:50:55.332774Z"
    },
    "papermill": {
     "duration": 0.253792,
     "end_time": "2022-06-26T18:50:55.336473",
     "exception": false,
     "start_time": "2022-06-26T18:50:55.082681",
     "status": "completed"
    },
    "tags": []
   },
   "outputs": [],
   "source": [
    "normal_indices = data[data.Class == 0].index"
   ]
  },
  {
   "cell_type": "code",
   "execution_count": 28,
   "id": "d1c7b973",
   "metadata": {
    "execution": {
     "iopub.execute_input": "2022-06-26T18:50:55.750043Z",
     "iopub.status.busy": "2022-06-26T18:50:55.749303Z",
     "iopub.status.idle": "2022-06-26T18:50:55.763919Z",
     "shell.execute_reply": "2022-06-26T18:50:55.762522Z"
    },
    "papermill": {
     "duration": 0.225313,
     "end_time": "2022-06-26T18:50:55.767279",
     "exception": false,
     "start_time": "2022-06-26T18:50:55.541966",
     "status": "completed"
    },
    "tags": []
   },
   "outputs": [
    {
     "name": "stdout",
     "output_type": "stream",
     "text": [
      "492\n"
     ]
    }
   ],
   "source": [
    "random_normal_indices = np.random.choice(normal_indices, number_records_fraud, replace=False)\n",
    "random_normal_indices = np.array(random_normal_indices)\n",
    "print(len(random_normal_indices))"
   ]
  },
  {
   "cell_type": "code",
   "execution_count": 29,
   "id": "7ea2bbf4",
   "metadata": {
    "execution": {
     "iopub.execute_input": "2022-06-26T18:50:56.246996Z",
     "iopub.status.busy": "2022-06-26T18:50:56.246315Z",
     "iopub.status.idle": "2022-06-26T18:50:56.252590Z",
     "shell.execute_reply": "2022-06-26T18:50:56.251393Z"
    },
    "papermill": {
     "duration": 0.225292,
     "end_time": "2022-06-26T18:50:56.255093",
     "exception": false,
     "start_time": "2022-06-26T18:50:56.029801",
     "status": "completed"
    },
    "tags": []
   },
   "outputs": [
    {
     "name": "stdout",
     "output_type": "stream",
     "text": [
      "984\n"
     ]
    }
   ],
   "source": [
    "under_sample_indices = np.concatenate([fraud_indices,random_normal_indices])\n",
    "print(len(under_sample_indices))"
   ]
  },
  {
   "cell_type": "code",
   "execution_count": 30,
   "id": "9d95906a",
   "metadata": {
    "execution": {
     "iopub.execute_input": "2022-06-26T18:50:56.670925Z",
     "iopub.status.busy": "2022-06-26T18:50:56.669978Z",
     "iopub.status.idle": "2022-06-26T18:50:56.675557Z",
     "shell.execute_reply": "2022-06-26T18:50:56.674754Z"
    },
    "papermill": {
     "duration": 0.213868,
     "end_time": "2022-06-26T18:50:56.677607",
     "exception": false,
     "start_time": "2022-06-26T18:50:56.463739",
     "status": "completed"
    },
    "tags": []
   },
   "outputs": [],
   "source": [
    "under_sample_data = data.iloc[under_sample_indices,:]"
   ]
  },
  {
   "cell_type": "code",
   "execution_count": 31,
   "id": "1ff2473c",
   "metadata": {
    "execution": {
     "iopub.execute_input": "2022-06-26T18:50:57.093669Z",
     "iopub.status.busy": "2022-06-26T18:50:57.092999Z",
     "iopub.status.idle": "2022-06-26T18:50:57.098863Z",
     "shell.execute_reply": "2022-06-26T18:50:57.098093Z"
    },
    "papermill": {
     "duration": 0.217444,
     "end_time": "2022-06-26T18:50:57.101021",
     "exception": false,
     "start_time": "2022-06-26T18:50:56.883577",
     "status": "completed"
    },
    "tags": []
   },
   "outputs": [],
   "source": [
    "X_undersample = under_sample_data.iloc[:,under_sample_data.columns != 'Class']\n",
    "y_undersample = under_sample_data.iloc[:,under_sample_data.columns == 'Class']"
   ]
  },
  {
   "cell_type": "code",
   "execution_count": 32,
   "id": "a0a6ebc5",
   "metadata": {
    "execution": {
     "iopub.execute_input": "2022-06-26T18:50:57.517143Z",
     "iopub.status.busy": "2022-06-26T18:50:57.516434Z",
     "iopub.status.idle": "2022-06-26T18:50:57.523171Z",
     "shell.execute_reply": "2022-06-26T18:50:57.521846Z"
    },
    "papermill": {
     "duration": 0.21775,
     "end_time": "2022-06-26T18:50:57.525542",
     "exception": false,
     "start_time": "2022-06-26T18:50:57.307792",
     "status": "completed"
    },
    "tags": []
   },
   "outputs": [],
   "source": [
    "X_train, X_test, y_train, y_test = train_test_split(X_undersample,y_undersample, test_size=0.3)"
   ]
  },
  {
   "cell_type": "code",
   "execution_count": 33,
   "id": "4ec569c8",
   "metadata": {
    "execution": {
     "iopub.execute_input": "2022-06-26T18:50:57.939988Z",
     "iopub.status.busy": "2022-06-26T18:50:57.938964Z",
     "iopub.status.idle": "2022-06-26T18:50:57.945545Z",
     "shell.execute_reply": "2022-06-26T18:50:57.944420Z"
    },
    "papermill": {
     "duration": 0.216933,
     "end_time": "2022-06-26T18:50:57.948084",
     "exception": false,
     "start_time": "2022-06-26T18:50:57.731151",
     "status": "completed"
    },
    "tags": []
   },
   "outputs": [],
   "source": [
    "X_train = np.array(X_train)\n",
    "X_test = np.array(X_test)\n",
    "y_train = np.array(y_train)\n",
    "y_test = np.array(y_test)"
   ]
  },
  {
   "cell_type": "code",
   "execution_count": 34,
   "id": "c0577572",
   "metadata": {
    "execution": {
     "iopub.execute_input": "2022-06-26T18:50:58.420083Z",
     "iopub.status.busy": "2022-06-26T18:50:58.419084Z",
     "iopub.status.idle": "2022-06-26T18:50:58.425756Z",
     "shell.execute_reply": "2022-06-26T18:50:58.424395Z"
    },
    "papermill": {
     "duration": 0.272644,
     "end_time": "2022-06-26T18:50:58.428233",
     "exception": false,
     "start_time": "2022-06-26T18:50:58.155589",
     "status": "completed"
    },
    "tags": []
   },
   "outputs": [
    {
     "name": "stdout",
     "output_type": "stream",
     "text": [
      "Model: \"sequential\"\n",
      "_________________________________________________________________\n",
      "Layer (type)                 Output Shape              Param #   \n",
      "=================================================================\n",
      "dense (Dense)                (None, 16)                480       \n",
      "_________________________________________________________________\n",
      "dense_1 (Dense)              (None, 24)                408       \n",
      "_________________________________________________________________\n",
      "dropout (Dropout)            (None, 24)                0         \n",
      "_________________________________________________________________\n",
      "dense_2 (Dense)              (None, 20)                500       \n",
      "_________________________________________________________________\n",
      "dense_3 (Dense)              (None, 24)                504       \n",
      "_________________________________________________________________\n",
      "dense_4 (Dense)              (None, 1)                 25        \n",
      "=================================================================\n",
      "Total params: 1,917\n",
      "Trainable params: 1,917\n",
      "Non-trainable params: 0\n",
      "_________________________________________________________________\n"
     ]
    }
   ],
   "source": [
    "model.summary()"
   ]
  },
  {
   "cell_type": "code",
   "execution_count": 35,
   "id": "26567531",
   "metadata": {
    "execution": {
     "iopub.execute_input": "2022-06-26T18:50:58.842391Z",
     "iopub.status.busy": "2022-06-26T18:50:58.841617Z",
     "iopub.status.idle": "2022-06-26T18:51:00.009477Z",
     "shell.execute_reply": "2022-06-26T18:51:00.008247Z"
    },
    "papermill": {
     "duration": 1.376189,
     "end_time": "2022-06-26T18:51:00.011948",
     "exception": false,
     "start_time": "2022-06-26T18:50:58.635759",
     "status": "completed"
    },
    "tags": []
   },
   "outputs": [
    {
     "name": "stdout",
     "output_type": "stream",
     "text": [
      "Epoch 1/5\n",
      "46/46 [==============================] - 1s 2ms/step - loss: 0.3859 - accuracy: 0.8939\n",
      "Epoch 2/5\n",
      "46/46 [==============================] - 0s 2ms/step - loss: 0.1870 - accuracy: 0.9259\n",
      "Epoch 3/5\n",
      "46/46 [==============================] - 0s 2ms/step - loss: 0.1515 - accuracy: 0.9433\n",
      "Epoch 4/5\n",
      "46/46 [==============================] - 0s 2ms/step - loss: 0.1424 - accuracy: 0.9419\n",
      "Epoch 5/5\n",
      "46/46 [==============================] - 0s 2ms/step - loss: 0.1234 - accuracy: 0.9462\n"
     ]
    },
    {
     "data": {
      "text/plain": [
       "<keras.callbacks.History at 0x7fceb34cced0>"
      ]
     },
     "execution_count": 35,
     "metadata": {},
     "output_type": "execute_result"
    }
   ],
   "source": [
    "model.compile(optimizer='adam',loss='binary_crossentropy',metrics=['accuracy'])\n",
    "model.fit(X_train,y_train,batch_size=15,epochs=5)"
   ]
  },
  {
   "cell_type": "code",
   "execution_count": 36,
   "id": "3de66641",
   "metadata": {
    "execution": {
     "iopub.execute_input": "2022-06-26T18:51:00.429307Z",
     "iopub.status.busy": "2022-06-26T18:51:00.428924Z",
     "iopub.status.idle": "2022-06-26T18:51:00.734428Z",
     "shell.execute_reply": "2022-06-26T18:51:00.733135Z"
    },
    "papermill": {
     "duration": 0.517254,
     "end_time": "2022-06-26T18:51:00.737277",
     "exception": false,
     "start_time": "2022-06-26T18:51:00.220023",
     "status": "completed"
    },
    "tags": []
   },
   "outputs": [
    {
     "name": "stdout",
     "output_type": "stream",
     "text": [
      "Confusion matrix, without normalization\n",
      "[[143   0]\n",
      " [ 13 140]]\n"
     ]
    },
    {
     "data": {
      "image/png": "[encoded data removed]",
      "text/plain": [
       "<Figure size 432x288 with 2 Axes>"
      ]
     },
     "metadata": {
      "needs_background": "light"
     },
     "output_type": "display_data"
    }
   ],
   "source": [
    "y_pred = model.predict(X_test)\n",
    "y_expected = pd.DataFrame(y_test)\n",
    "cnf_matrix = confusion_matrix(y_expected, y_pred.round())\n",
    "plot_confusion_matrix(cnf_matrix, classes=[0,1])\n",
    "plt.show()"
   ]
  },
  {
   "cell_type": "code",
   "execution_count": 37,
   "id": "9fe1f79e",
   "metadata": {
    "execution": {
     "iopub.execute_input": "2022-06-26T18:51:01.152931Z",
     "iopub.status.busy": "2022-06-26T18:51:01.151943Z",
     "iopub.status.idle": "2022-06-26T18:51:12.615894Z",
     "shell.execute_reply": "2022-06-26T18:51:12.613469Z"
    },
    "papermill": {
     "duration": 11.675518,
     "end_time": "2022-06-26T18:51:12.619188",
     "exception": false,
     "start_time": "2022-06-26T18:51:00.943670",
     "status": "completed"
    },
    "tags": []
   },
   "outputs": [
    {
     "name": "stdout",
     "output_type": "stream",
     "text": [
      "Confusion matrix, without normalization\n",
      "[[282659   1656]\n",
      " [    50    442]]\n"
     ]
    },
    {
     "data": {
      "image/png": "[encoded data removed]",
      "text/plain": [
       "<Figure size 432x288 with 2 Axes>"
      ]
     },
     "metadata": {
      "needs_background": "light"
     },
     "output_type": "display_data"
    }
   ],
   "source": [
    "y_pred = model.predict(X)\n",
    "y_expected = pd.DataFrame(y)\n",
    "cnf_matrix = confusion_matrix(y_expected, y_pred.round())\n",
    "plot_confusion_matrix(cnf_matrix, classes=[0,1])\n",
    "plt.show()"
   ]
  }
 ],
 "metadata": {
  "kernelspec": {
   "display_name": "Python 3",
   "language": "python",
   "name": "python3"
  },
  "language_info": {
   "codemirror_mode": {
    "name": "ipython",
    "version": 3
   },
   "file_extension": ".py",
   "mimetype": "text/x-python",
   "name": "python",
   "nbconvert_exporter": "python",
   "pygments_lexer": "ipython3",
   "version": "3.7.12"
  },
  "papermill": {
   "default_parameters": {},
   "duration": 206.902107,
   "end_time": "2022-06-26T18:51:16.392721",
   "environment_variables": {},
   "exception": null,
   "input_path": "__notebook__.ipynb",
   "output_path": "__notebook__.ipynb",
   "parameters": {},
   "start_time": "2022-06-26T18:47:49.490614",
   "version": "2.3.4"
  }
 },
 "nbformat": 4,
 "nbformat_minor": 5
}
